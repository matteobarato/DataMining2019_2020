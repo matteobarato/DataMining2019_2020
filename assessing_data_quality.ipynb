{
 "cells": [
  {
   "cell_type": "code",
   "execution_count": 1,
   "metadata": {
    "collapsed": true
   },
   "outputs": [],
   "source": [
    "NUMERICAL_DATA = ['VehOdo','VehicleAge', 'MMRAcquisitionAuctionAveragePrice', 'MMRAcquisitionAuctionCleanPrice',\n",
    "                  'MMRAcquisitionRetailAveragePrice', 'MMRAcquisitonRetailCleanPrice', 'MMRCurrentAuctionAveragePrice',\n",
    "                  'MMRCurrentAuctionCleanPrice', 'MMRCurrentRetailAveragePrice', 'MMRCurrentRetailCleanPrice',\n",
    "                  'VehBCost', 'WarrantyCost']"
   ]
  },
  {
   "cell_type": "code",
   "execution_count": 6,
   "metadata": {
    "colab": {},
    "colab_type": "code",
    "collapsed": false,
    "id": "NEINEKEXc18D"
   },
   "outputs": [
    {
     "data": {
      "text/plain": [
       "(72983, 34)"
      ]
     },
     "execution_count": 6,
     "metadata": {},
     "output_type": "execute_result"
    }
   ],
   "source": [
    "import pandas as pd\n",
    "import numpy as np\n",
    "import seaborn as sns\n",
    "import matplotlib.pyplot as plt\n",
    "\n",
    "sns.set(style=\"white\", context=\"talk\")\n",
    "PATH = '../data/'\n",
    "\n",
    "# Training data\n",
    "data_TR = pd.read_csv(PATH + 'training.csv')\n",
    "# Test data\n",
    "data_TS = pd.read_csv(PATH + 'test.csv')\n",
    "data_TOT = pd.concat([data_TS, data_TR])\n",
    "\n",
    "data_TOT.shape"
   ]
  },
  {
   "cell_type": "markdown",
   "metadata": {},
   "source": [
    "**Numero totale di righe aventi almeno un Nan: Sono TANTISSIMI, POTA**"
   ]
  },
  {
   "cell_type": "code",
   "execution_count": 9,
   "metadata": {
    "colab": {
     "base_uri": "https://localhost:8080/",
     "height": 197
    },
    "colab_type": "code",
    "collapsed": false,
    "executionInfo": {
     "elapsed": 1194,
     "status": "ok",
     "timestamp": 1575992221278,
     "user": {
      "displayName": "Beretta Lorenzo",
      "photoUrl": "https://lh3.googleusercontent.com/a-/AAuE7mCWa610qdv2tih4J6oP1Hsz--JnfPtrX7-bHAYKjA=s64",
      "userId": "04282748666580868732"
     },
     "user_tz": -60
    },
    "id": "ZTp9FzgIdaDD",
    "outputId": "8dae7fca-c018-4b87-e4b3-5606276fd5a0"
   },
   "outputs": [
    {
     "data": {
      "text/plain": [
       "69707"
      ]
     },
     "execution_count": 9,
     "metadata": {},
     "output_type": "execute_result"
    }
   ],
   "source": [
    "data_TOT.isna().any(axis=1).sum()"
   ]
  },
  {
   "cell_type": "markdown",
   "metadata": {},
   "source": [
    "**Conto i price data che sono negativi o Nan per colonna**"
   ]
  },
  {
   "cell_type": "code",
   "execution_count": 10,
   "metadata": {
    "collapsed": false
   },
   "outputs": [
    {
     "data": {
      "text/plain": [
       "MMRAcquisitionAuctionAveragePrice    846\n",
       "MMRAcquisitionAuctionCleanPrice      715\n",
       "MMRAcquisitionRetailAveragePrice     846\n",
       "MMRAcquisitonRetailCleanPrice        846\n",
       "MMRCurrentAuctionAveragePrice        819\n",
       "MMRCurrentAuctionCleanPrice          693\n",
       "MMRCurrentRetailAveragePrice         819\n",
       "MMRCurrentRetailCleanPrice           819\n",
       "VehBCost                               0\n",
       "WarrantyCost                           0\n",
       "dtype: int64"
      ]
     },
     "execution_count": 10,
     "metadata": {},
     "output_type": "execute_result"
    }
   ],
   "source": [
    "prd = data_TOT.loc[:, data_TOT.columns.isin(NUMERICAL_DATA) & ~data_TOT.columns.isin(['VehOdo','VehicleAge'])]\n",
    "\n",
    "prd.apply(lambda s : s.apply(lambda x : (x <= 0 or np.isnan(x)))).sum()"
   ]
  },
  {
   "cell_type": "markdown",
   "metadata": {},
   "source": [
    "**Conto i categorical data che sono Nan per colonna**"
   ]
  },
  {
   "cell_type": "code",
   "execution_count": 11,
   "metadata": {
    "collapsed": false
   },
   "outputs": [
    {
     "data": {
      "text/plain": [
       "RefId                       0\n",
       "IsBadBuy                    0\n",
       "PurchDate                   0\n",
       "Auction                     0\n",
       "VehYear                     0\n",
       "VehicleAge                  0\n",
       "Make                        0\n",
       "Model                       0\n",
       "Trim                     2360\n",
       "SubModel                    8\n",
       "Color                       8\n",
       "Transmission                9\n",
       "WheelTypeID              3169\n",
       "WheelType                3174\n",
       "VehOdo                      0\n",
       "Nationality                 5\n",
       "Size                        5\n",
       "TopThreeAmericanName        5\n",
       "PRIMEUNIT               69564\n",
       "AUCGUART                69564\n",
       "BYRNO                       0\n",
       "VNZIP1                      0\n",
       "VNST                        0\n",
       "IsOnlineSale                0\n",
       "dtype: int64"
      ]
     },
     "execution_count": 11,
     "metadata": {},
     "output_type": "execute_result"
    }
   ],
   "source": [
    "cd = data_TOT.loc[:, ~data_TOT.columns.isin(prd.columns)]\n",
    "\n",
    "cd.isna().sum()"
   ]
  },
  {
   "cell_type": "markdown",
   "metadata": {},
   "source": [
    "**----------------------- INIZIO PULIZIA DATI ---------------------------**"
   ]
  },
  {
   "cell_type": "code",
   "execution_count": 12,
   "metadata": {
    "collapsed": true
   },
   "outputs": [],
   "source": [
    "df = data_TOT.copy()"
   ]
  },
  {
   "cell_type": "markdown",
   "metadata": {},
   "source": [
    "** Proviamo a cavare tutte le righe corrispondenti che hanno un Nan in corrispondenza di una colonna che ha pochi Nan in totale (ad esempio le righe aventi prezzi privi di significato)**"
   ]
  },
  {
   "cell_type": "code",
   "execution_count": 13,
   "metadata": {
    "collapsed": false
   },
   "outputs": [],
   "source": [
    "prd_dps = prd.apply(lambda s : s.apply(lambda x : (x <= 0 or np.isnan(x)))).any(axis=1)"
   ]
  },
  {
   "cell_type": "code",
   "execution_count": 14,
   "metadata": {
    "collapsed": false
   },
   "outputs": [],
   "source": [
    "cd_dps = cd.loc[: ,['SubModel', 'Color', 'Transmission', 'Nationality', 'Size',  'TopThreeAmericanName']]\n",
    "cd_dps = cd_dps.isna().any(axis=1)"
   ]
  },
  {
   "cell_type": "code",
   "execution_count": 15,
   "metadata": {
    "collapsed": false
   },
   "outputs": [],
   "source": [
    "to_keep = ~(cd_dps | prd_dps)"
   ]
  },
  {
   "cell_type": "code",
   "execution_count": 16,
   "metadata": {
    "collapsed": false
   },
   "outputs": [],
   "source": [
    "df = df[to_keep]"
   ]
  },
  {
   "cell_type": "markdown",
   "metadata": {},
   "source": [
    "**Proviamo a cavare le due colonne malvagie**"
   ]
  },
  {
   "cell_type": "code",
   "execution_count": 17,
   "metadata": {
    "collapsed": false
   },
   "outputs": [],
   "source": [
    "df = df.drop(columns=['PRIMEUNIT', 'AUCGUART'])"
   ]
  },
  {
   "cell_type": "markdown",
   "metadata": {},
   "source": [
    "**Risultato Finale**"
   ]
  },
  {
   "cell_type": "code",
   "execution_count": 18,
   "metadata": {
    "collapsed": false
   },
   "outputs": [
    {
     "data": {
      "text/plain": [
       "RefId                                   0\n",
       "IsBadBuy                                0\n",
       "PurchDate                               0\n",
       "Auction                                 0\n",
       "VehYear                                 0\n",
       "VehicleAge                              0\n",
       "Make                                    0\n",
       "Model                                   0\n",
       "Trim                                 2335\n",
       "SubModel                                0\n",
       "Color                                   0\n",
       "Transmission                            0\n",
       "WheelTypeID                          3130\n",
       "WheelType                            3130\n",
       "VehOdo                                  0\n",
       "Nationality                             0\n",
       "Size                                    0\n",
       "TopThreeAmericanName                    0\n",
       "MMRAcquisitionAuctionAveragePrice       0\n",
       "MMRAcquisitionAuctionCleanPrice         0\n",
       "MMRAcquisitionRetailAveragePrice        0\n",
       "MMRAcquisitonRetailCleanPrice           0\n",
       "MMRCurrentAuctionAveragePrice           0\n",
       "MMRCurrentAuctionCleanPrice             0\n",
       "MMRCurrentRetailAveragePrice            0\n",
       "MMRCurrentRetailCleanPrice              0\n",
       "BYRNO                                   0\n",
       "VNZIP1                                  0\n",
       "VNST                                    0\n",
       "VehBCost                                0\n",
       "IsOnlineSale                            0\n",
       "WarrantyCost                            0\n",
       "dtype: int64"
      ]
     },
     "execution_count": 18,
     "metadata": {},
     "output_type": "execute_result"
    }
   ],
   "source": [
    "df.apply(lambda s : s.apply(lambda x : (isinstance(x, float) and (x <= 0 or np.isnan(x))))).sum()"
   ]
  },
  {
   "cell_type": "code",
   "execution_count": 22,
   "metadata": {
    "collapsed": false
   },
   "outputs": [
    {
     "data": {
      "image/png": "[encoded data removed]",
      "text/plain": [
       "<Figure size 432x288 with 1 Axes>"
      ]
     },
     "metadata": {},
     "output_type": "display_data"
    }
   ],
   "source": [
    "plt.plot(df.MMRAcquisitionAuctionAveragePrice, df.MMRAcquisitionAuctionCleanPrice, '.')\n",
    "\n",
    "plt.show()"
   ]
  }
 ],
 "metadata": {
  "colab": {
   "collapsed_sections": [],
   "name": "assessing_data_quality.ipynb",
   "provenance": [
    {
     "file_id": "1GCTprxBsmN4P5UV0uEBm2O00Dtvt5Tbm",
     "timestamp": 1575366518338
    }
   ]
  },
  "kernelspec": {
   "display_name": "Python 3",
   "language": "python",
   "name": "python3"
  },
  "language_info": {
   "codemirror_mode": {
    "name": "ipython",
    "version": 3
   },
   "file_extension": ".py",
   "mimetype": "text/x-python",
   "name": "python",
   "nbconvert_exporter": "python",
   "pygments_lexer": "ipython3",
   "version": "3.5.3"
  }
 },
 "nbformat": 4,
 "nbformat_minor": 0
}
